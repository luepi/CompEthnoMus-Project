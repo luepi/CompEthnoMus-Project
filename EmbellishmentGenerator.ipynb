{
 "cells": [
  {
   "cell_type": "markdown",
   "metadata": {},
   "source": [
    "# Embellishment Generator\n"
   ]
  },
  {
   "cell_type": "code",
   "execution_count": 1,
   "metadata": {},
   "outputs": [],
   "source": [
    "from music21 import *"
   ]
  },
  {
   "cell_type": "code",
   "execution_count": 2,
   "metadata": {},
   "outputs": [
    {
     "name": "stdout",
     "output_type": "stream",
     "text": [
      "./Scores/Fling.mxl\n"
     ]
    }
   ],
   "source": [
    "# Path of the folder that contains the score to be loaded\n",
    "path = './Scores/'\n",
    "\n",
    "# Name of the score\n",
    "file_name = 'Fling.mxl'\n",
    "\n",
    "# Join the path of the folder with the file name to get the full path\n",
    "fn = path + file_name\n",
    "\n",
    "# Print the path just to be sure that it is correct (optional)\n",
    "print(fn)"
   ]
  },
  {
   "cell_type": "code",
   "execution_count": 3,
   "metadata": {},
   "outputs": [],
   "source": [
    "s = converter.parse(fn)"
   ]
  },
  {
   "cell_type": "code",
   "execution_count": 4,
   "metadata": {},
   "outputs": [],
   "source": [
    "s.show()"
   ]
  },
  {
   "cell_type": "code",
   "execution_count": 5,
   "metadata": {},
   "outputs": [],
   "source": [
    "# define fundamental embellishments: rolls for dottet crotchets and crotchets\n",
    "\n",
    "# define notes\n",
    "\n",
    "#d = note.Note('D5', type='eighth')\n",
    "#dGrace = d.getGrace()\n",
    "#m.insert(2.0, dGrace)\n",
    "#m.show()\n",
    "\n",
    "\n",
    "\n",
    "\n",
    "e = note.Note('E4', type='eighth')\n",
    "fis = note.Note('F#4', type='eighth')\n",
    "g = note.Note('G4', type='eighth')\n",
    "a = note.Note('A4', type='eighth')\n",
    "b = note.Note('B4', type='eighth')\n",
    "cis = note.Note('C#4', type='eighth')\n",
    "\n",
    "aGrace = a.getGrace()\n",
    "\n",
    "\n",
    "nlist = [e, aGrace, e, aGrace, e]\n",
    "\n",
    "# E\n",
    "# crotchet\n",
    "\n",
    "#e_crotchet = note.Note('D')\n",
    "\n",
    "# dotted crochet\n",
    "\n",
    "#-----------------------------------------------------------------------------\n",
    "# F#\n",
    "# crotchet\n",
    "\n",
    "# dotted crochet\n",
    "\n",
    "#-----------------------------------------------------------------------------\n",
    "# G\n",
    "# crotchet\n",
    "\n",
    "# dotted crochet\n",
    "\n",
    "#-----------------------------------------------------------------------------\n",
    "# A\n",
    "# crotchet\n",
    "\n",
    "# dotted crochet\n",
    "\n",
    "#-----------------------------------------------------------------------------\n",
    "# B\n",
    "# crotchet\n",
    "\n",
    "# dotted crochet\n",
    "\n",
    "#-----------------------------------------------------------------------------\n",
    "# C#\n",
    "# crotchet\n",
    "\n",
    "# dotted crochet\n"
   ]
  },
  {
   "cell_type": "code",
   "execution_count": null,
   "metadata": {},
   "outputs": [],
   "source": [
    "#r.insert(2, nlist)"
   ]
  },
  {
   "cell_type": "code",
   "execution_count": null,
   "metadata": {},
   "outputs": [],
   "source": [
    "#m = stream.Measure()\n",
    "#m.append(meter.TimeSignature('4/4'))\n",
    "#m.repeatAppend(note.Note('C5'), 4)\n",
    "#m.show()\n"
   ]
  },
  {
   "cell_type": "code",
   "execution_count": null,
   "metadata": {},
   "outputs": [],
   "source": [
    "#d = note.Note('D5', type='eighth')\n",
    "#dGrace = d.getGrace()\n",
    "#m.insert(2.0, dGrace)\n",
    "#m.insert(3.0, aGrace)\n",
    "#m.insert(4.0, list(range(len(nlist))))\n",
    "#m.show()"
   ]
  },
  {
   "cell_type": "code",
   "execution_count": null,
   "metadata": {},
   "outputs": [],
   "source": [
    "pp = s.parts.stream()\n",
    "p_pipe = pp[0]\n",
    "\n",
    "for i in range(len(p_pipe.elements)):\n",
    "    print(i, p_pipe[i]) # print the index and the element in that index position"
   ]
  },
  {
   "cell_type": "code",
   "execution_count": null,
   "metadata": {},
   "outputs": [],
   "source": [
    "mm_pipe = p_pipe.getElementsByClass('Measure').stream()\n",
    "\n",
    "for m in mm_pipe.elements:\n",
    "    print(m)"
   ]
  },
  {
   "cell_type": "code",
   "execution_count": null,
   "metadata": {},
   "outputs": [],
   "source": [
    "mm_pipe = p_pipe.getElementsByClass('Measure').stream()"
   ]
  },
  {
   "cell_type": "code",
   "execution_count": null,
   "metadata": {},
   "outputs": [],
   "source": [
    "mm_pipe.show()"
   ]
  },
  {
   "cell_type": "code",
   "execution_count": null,
   "metadata": {},
   "outputs": [],
   "source": [
    "m_pipe_1 = mm_pipe[0]\n",
    "m_pipe_2 = mm_pipe[1]\n",
    "\n",
    "# Iterate over the elements of the measure\n",
    "for e in m_pipe_1.elements:\n",
    "    print(\"At offset {} there is a {}.\".format(e.offset, e))\n",
    "\n",
    "print()\n",
    "for e in m_pipe_2.elements:\n",
    "    print(\"At offset {} there is a {}.\".format(e.offset, e))\n",
    "    \n",
    "    \n",
    "    \n",
    "    \n",
    "\n",
    "    \n",
    "# How to receive the ornamentation?\n",
    "# https://web.mit.edu/music21/doc/moduleReference/moduleExpressions.html\n",
    "# music21.expressions\n",
    "\n",
    "print()\n",
    "\n",
    "\n",
    "#iTurn = p_pipe.expressions.InvertedTurn()\n",
    "#iTurn.name\n",
    "#'inverted turn'\n",
    "\n",
    "\n",
    "# ee_pipe = p_pipe.expressions\n",
    "\n",
    "\n",
    "for e in ee_pipe.elements:\n",
    "    print(\"At offset {} there is a {}\".format(e.offset, e))\n",
    "    \n",
    "\n",
    "    \n",
    "mm_pipe.expressions"
   ]
  },
  {
   "cell_type": "code",
   "execution_count": null,
   "metadata": {},
   "outputs": [],
   "source": [
    "# Loop over the indexes of the vocal part\n",
    "for i in range(len(p_pipe.elements)):\n",
    "    print(i, p_pipe[i]) # print the index and the element in that index position"
   ]
  },
  {
   "cell_type": "code",
   "execution_count": null,
   "metadata": {},
   "outputs": [],
   "source": [
    "print(\"The instrumental part contains {} elements.\".format(len(p_pipe.elements)))"
   ]
  },
  {
   "cell_type": "code",
   "execution_count": null,
   "metadata": {},
   "outputs": [],
   "source": [
    "m_pipe_9 = mm_pipe.measure(2)\n",
    "\n",
    "print(m_pipe_9)\n",
    "\n",
    "\n",
    "print('Measure 9 contains {} elements:'.format(len(m_pipe_9.elements)))\n",
    "\n",
    "for element in m_pipe_9.elements:\n",
    "    print('-', element)\n",
    "    if element\n"
   ]
  },
  {
   "cell_type": "code",
   "execution_count": null,
   "metadata": {},
   "outputs": [],
   "source": [
    "m_pipe_9.elements\n",
    "m_pipeNew = []\n",
    "ornaments \n",
    "for i in m_pipe_9:\n",
    "    print(i)\n",
    "    if i not in ornaments:\n",
    "        #m_pipeNew.append[i]\n",
    "    \n"
   ]
  },
  {
   "cell_type": "code",
   "execution_count": null,
   "metadata": {},
   "outputs": [],
   "source": [
    "nn_pipe = p_pipe.flat.notes.stream()"
   ]
  },
  {
   "cell_type": "code",
   "execution_count": null,
   "metadata": {},
   "outputs": [],
   "source": [
    "nn_pipe.show()"
   ]
  },
  {
   "cell_type": "code",
   "execution_count": null,
   "metadata": {},
   "outputs": [],
   "source": [
    "n_pipe_5 = nn_pipe[4]"
   ]
  },
  {
   "cell_type": "code",
   "execution_count": null,
   "metadata": {},
   "outputs": [],
   "source": [
    "print(n_pipe_5)"
   ]
  },
  {
   "cell_type": "code",
   "execution_count": null,
   "metadata": {},
   "outputs": [],
   "source": [
    "n_pipe_5.expressions"
   ]
  },
  {
   "cell_type": "code",
   "execution_count": null,
   "metadata": {},
   "outputs": [],
   "source": [
    "# test note without expression\n",
    "\n",
    "n_pipe_4 = nn_pipe[3]\n",
    "n_pipe_4.expressions"
   ]
  },
  {
   "cell_type": "code",
   "execution_count": null,
   "metadata": {},
   "outputs": [],
   "source": [
    "for note in nn_pipe:\n",
    "    print(note)\n",
    "    #exp = note.expression\n",
    "    #if exp != None:\n",
    "     #   print(exp)"
   ]
  },
  {
   "cell_type": "code",
   "execution_count": null,
   "metadata": {},
   "outputs": [],
   "source": [
    "notes = []\n",
    "\n",
    "r = s\n",
    "for i in range(len(nn_pipe)):\n",
    "    #print(nn_pipe[i])\n",
    "    n_pipe_exp = nn_pipe[i]\n",
    "    exp = n_pipe_exp.expressions\n",
    "    name = n_pipe_exp.pitch.name\n",
    "    print(n_pipe_exp.offset)\n",
    "    if exp != []:\n",
    "        notes.append(exp)\n",
    "        r.remove(n_pipe_exp)\n",
    "        u = n_pipe_exp.offset\n",
    "        aGrace.offset = u\n",
    "        print(u)\n",
    "        r.insert(u, note.Note('E'))\n",
    "        print(n_pipe_exp)\n",
    "        print(n_pipe_exp.offset)\n",
    "print(notes)"
   ]
  },
  {
   "cell_type": "code",
   "execution_count": null,
   "metadata": {},
   "outputs": [],
   "source": [
    "r.insert(note.Note('E'))"
   ]
  },
  {
   "cell_type": "code",
   "execution_count": null,
   "metadata": {},
   "outputs": [],
   "source": [
    "r.show()"
   ]
  },
  {
   "cell_type": "code",
   "execution_count": null,
   "metadata": {},
   "outputs": [],
   "source": [
    "type(n_pipe_exp.expressions)\n",
    "\n",
    "[<music21.expressions.InvertedTurn>]\n",
    " n_pipe_exp.expressions == n_pipe_exp.expressions.InvertedTurn"
   ]
  },
  {
   "cell_type": "code",
   "execution_count": null,
   "metadata": {},
   "outputs": [],
   "source": [
    "r.show()"
   ]
  }
 ],
 "metadata": {
  "kernelspec": {
   "display_name": "Python 3",
   "language": "python",
   "name": "python3"
  },
  "language_info": {
   "codemirror_mode": {
    "name": "ipython",
    "version": 3
   },
   "file_extension": ".py",
   "mimetype": "text/x-python",
   "name": "python",
   "nbconvert_exporter": "python",
   "pygments_lexer": "ipython3",
   "version": "3.8.1"
  }
 },
 "nbformat": 4,
 "nbformat_minor": 4
}
